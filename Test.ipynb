{
  "nbformat": 4,
  "nbformat_minor": 0,
  "metadata": {
    "colab": {
      "provenance": []
    },
    "kernelspec": {
      "name": "python3",
      "display_name": "Python 3"
    },
    "language_info": {
      "name": "python"
    }
  },
  "cells": [
    {
      "cell_type": "markdown",
      "source": [
        "<a href=\"https://colab.research.google.com/github.com/benedictawinni/desktop-tutorial/blob/main/Test.ipynb\" target=\"_parent\"><img src=\"https://colab.research.google.com/assets/colab-badge.svg\" alt=\"Open in Colab\"/></a>\n",
        "\n"
      ],
      "metadata": {
        "id": "6FU8Q_pFfUo5"
      }
    },
    {
      "cell_type": "markdown",
      "source": [
        "# Import Library"
      ],
      "metadata": {
        "id": "wjopSymJa4iM"
      }
    },
    {
      "cell_type": "code",
      "execution_count": 1,
      "metadata": {
        "id": "cyctZriAa03i"
      },
      "outputs": [],
      "source": [
        "import pandas as pd"
      ]
    },
    {
      "cell_type": "code",
      "source": [
        "def substring_count(string, substring):\n",
        "\n",
        "  number_of_substring = 0\n",
        "\n",
        "  for i in range(len(string)):\n",
        "    if string[i : i+len(substring)] == substring:\n",
        "      number_of_substring += 1\n",
        "    else:\n",
        "      number_of_substring += 0\n",
        "      \n",
        "  return number_of_substring"
      ],
      "metadata": {
        "id": "zhkst3pHbCw0"
      },
      "execution_count": 2,
      "outputs": []
    },
    {
      "cell_type": "code",
      "source": [
        "string = 'DIDIDBIMBIDID'\n",
        "substring = 'DID'\n",
        "\n",
        "substring_count(string, substring)"
      ],
      "metadata": {
        "colab": {
          "base_uri": "https://localhost:8080/"
        },
        "id": "qzwkeONdbEc5",
        "outputId": "34991438-49f5-49af-8a0f-26162f2ed0c0"
      },
      "execution_count": 3,
      "outputs": [
        {
          "output_type": "execute_result",
          "data": {
            "text/plain": [
              "3"
            ]
          },
          "metadata": {},
          "execution_count": 3
        }
      ]
    }
  ]
}